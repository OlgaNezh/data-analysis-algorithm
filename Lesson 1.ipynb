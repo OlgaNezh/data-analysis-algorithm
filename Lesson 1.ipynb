{
 "cells": [
  {
   "cell_type": "code",
   "execution_count": 22,
   "id": "6381955c",
   "metadata": {},
   "outputs": [],
   "source": [
    "import numpy as np\n",
    "import matplotlib.pyplot as plt"
   ]
  },
  {
   "cell_type": "markdown",
   "id": "a04532fa",
   "metadata": {},
   "source": [
    "### 1. Подберите скорость обучения (eta) и количество итераций"
   ]
  },
  {
   "cell_type": "code",
   "execution_count": 3,
   "id": "071d9590",
   "metadata": {},
   "outputs": [],
   "source": [
    "X = np.array([[1, 1, 1, 1, 1, 1, 1, 1, 1, 1],   # для умножения на intercept\n",
    "              [1, 1, 2, 1, 3, 0, 5, 10, 1, 2]]) # стаж"
   ]
  },
  {
   "cell_type": "code",
   "execution_count": 4,
   "id": "23a30118",
   "metadata": {},
   "outputs": [],
   "source": [
    "# средний балл ЕГЭ (целевая переменная)\n",
    "y = [45, 55, 50, 59, 65, 35, 75, 80, 50, 60]"
   ]
  },
  {
   "cell_type": "code",
   "execution_count": 5,
   "id": "70597d62",
   "metadata": {},
   "outputs": [],
   "source": [
    "def calc_mse(y, y_pred):\n",
    "    err = np.mean((y - y_pred)**2)\n",
    "    return err\n",
    "\n",
    "def calc_mae(y, y_pred):\n",
    "    err = np.mean(np.abs(y - y_pred))\n",
    "    return err"
   ]
  },
  {
   "cell_type": "code",
   "execution_count": 14,
   "id": "36ca2703",
   "metadata": {},
   "outputs": [
    {
     "name": "stdout",
     "output_type": "stream",
     "text": [
      "0 [1.1102 0.84  ] 3173.15\n",
      "100 [ 7.43515582 10.71754582] 899.5990444359252\n",
      "200 [11.44993589 10.49282195] 735.5540619653672\n",
      "300 [14.98921624  9.8634316 ] 606.0048772266812\n",
      "400 [18.17511588  9.27626113] 500.7989288428638\n",
      "500 [21.04606457  8.74617136] 415.355423398327\n",
      "600 [23.63334499  8.26841272] 345.96206460054725\n"
     ]
    }
   ],
   "source": [
    "n = X.shape[1]\n",
    "eta = 1e-3\n",
    "w = np.array([1, 0.5])\n",
    "\n",
    "for i in range(700):\n",
    "    y_pred = np.dot(w, X)\n",
    "    err = calc_mse(y, y_pred)\n",
    "    for j in range(w.shape[0]):\n",
    "        w[j] -= eta * (1/n * 2 * np.sum(X[j] * (y_pred - y)))\n",
    "    if i % 100 == 0:\n",
    "        print(i, w, err)"
   ]
  },
  {
   "cell_type": "markdown",
   "id": "958ff595",
   "metadata": {},
   "source": [
    "### 2*. В этом коде мы избавляемся от итераций по весам, но тут есть ошибка, исправьте ее"
   ]
  },
  {
   "cell_type": "code",
   "execution_count": 20,
   "id": "0a453499",
   "metadata": {},
   "outputs": [
    {
     "name": "stdout",
     "output_type": "stream",
     "text": [
      "Number of objects = 2        \n",
      "Learning rate = 0.01        \n",
      "Initial weights = [1.  0.5] \n",
      "\n",
      "0 [ 6.51 17.5 ] 3173.15\n",
      "100 [47.03142979  3.94777749] 45.96159894380851\n",
      "200 [47.23117922  3.91089223] 45.93750055548497\n",
      "300 [47.23213823  3.91071514] 45.937500000012804\n",
      "400 [47.23214283  3.91071429] 45.93749999999999\n",
      "500 [47.23214286  3.91071429] 45.9375\n",
      "600 [47.23214286  3.91071429] 45.9375\n",
      "700 [47.23214286  3.91071429] 45.9375\n",
      "800 [47.23214286  3.91071429] 45.9375\n",
      "900 [47.23214286  3.91071429] 45.9375\n"
     ]
    }
   ],
   "source": [
    "n = X.shape[0]\n",
    "\n",
    "eta = 1e-2 \n",
    "n_iter = 100\n",
    "\n",
    "W = np.array([1, 0.5])\n",
    "print(f'Number of objects = {n} \\\n",
    "       \\nLearning rate = {eta} \\\n",
    "       \\nInitial weights = {W} \\n')\n",
    "\n",
    "w = np.array([1, 0.5])\n",
    "\n",
    "for i in range(1000):\n",
    "    y_pred = np.dot(w, X)\n",
    "    err = calc_mse(y, y_pred)\n",
    "    for j in range(w.shape[0]):\n",
    "        w[j] -= eta * (1/n * 2 * np.sum(X[j] * (y_pred - y)))\n",
    "    if i % 100 == 0:\n",
    "        print(i, w, err)"
   ]
  },
  {
   "cell_type": "markdown",
   "id": "47aa22eb",
   "metadata": {},
   "source": [
    "### 3*. Вместо того, чтобы задавать количество итераций, задайте другое условие останова алгоритма - когда веса перестают изменяться меньше определенного порога $\\epsilon$."
   ]
  },
  {
   "cell_type": "code",
   "execution_count": 21,
   "id": "5f2f8198",
   "metadata": {},
   "outputs": [
    {
     "name": "stdout",
     "output_type": "stream",
     "text": [
      "220 [47.23177426  3.91078235] 45.937500081274386\n"
     ]
    }
   ],
   "source": [
    "w = np.array([1, 0.5])\n",
    "err_prev = 0\n",
    "err = np.inf\n",
    "count_iter = 1\n",
    "max_iter = 1e4\n",
    "epsilon = 1e-8\n",
    "\n",
    "while np.abs(err - err_prev) > epsilon and count_iter < max_iter:\n",
    "    y_pred = np.dot(w, X)\n",
    "    \n",
    "    for j in range(w.shape[0]):\n",
    "        w[j] -= eta * (1/n * 2 * np.sum(X[j] * (y_pred - y)))\n",
    "    \n",
    "    err_prev = err\n",
    "    err = calc_mse(y, y_pred)\n",
    "    count_iter += 1\n",
    "    \n",
    "print(count_iter, w, err)"
   ]
  },
  {
   "cell_type": "code",
   "execution_count": null,
   "id": "43adf3a0",
   "metadata": {},
   "outputs": [],
   "source": []
  }
 ],
 "metadata": {
  "kernelspec": {
   "display_name": "Python 3",
   "language": "python",
   "name": "python3"
  },
  "language_info": {
   "codemirror_mode": {
    "name": "ipython",
    "version": 3
   },
   "file_extension": ".py",
   "mimetype": "text/x-python",
   "name": "python",
   "nbconvert_exporter": "python",
   "pygments_lexer": "ipython3",
   "version": "3.8.8"
  }
 },
 "nbformat": 4,
 "nbformat_minor": 5
}
