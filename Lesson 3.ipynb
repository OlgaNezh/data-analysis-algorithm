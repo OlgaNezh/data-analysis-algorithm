{
 "cells": [
  {
   "cell_type": "code",
   "execution_count": 1,
   "id": "c70b084f",
   "metadata": {},
   "outputs": [],
   "source": [
    "import numpy as np\n",
    "import matplotlib.pyplot as plt"
   ]
  },
  {
   "cell_type": "code",
   "execution_count": 2,
   "id": "28a56bd8",
   "metadata": {},
   "outputs": [],
   "source": [
    "X = np.array([[1, 1, 1, 1, 1, 1, 1, 1, 1, 1],\n",
    "              [1, 1, 2, 1, 3, 0, 5, 10, 1, 2],\n",
    "              [500, 700, 750, 600, 1450, 800, 1500, 2000, 450, 1000],\n",
    "              [1, 1, 2, 1, 2, 1, 3, 3, 1, 2]], dtype = np.float64)\n",
    "\n",
    "y = np.array([0, 0, 1, 0, 1, 0, 1, 0, 1, 1], dtype = np.float64)"
   ]
  },
  {
   "cell_type": "markdown",
   "id": "b84ab0bd",
   "metadata": {},
   "source": [
    "### 1. *Измените функцию calc_logloss так, чтобы нули по возможности не попадали в np.log."
   ]
  },
  {
   "cell_type": "code",
   "execution_count": 3,
   "id": "d83a4568",
   "metadata": {},
   "outputs": [],
   "source": [
    "def calc_logloss(y, y_pred):\n",
    "    return np.mean(- y * np.log(np.clip(y_pred, 1e-12, np.inf)) - (1.0 - y) * np.log(1.0 - np.clip(y_pred, -np.inf, 1 - 1e-12)))"
   ]
  },
  {
   "cell_type": "markdown",
   "id": "6907d8c4",
   "metadata": {},
   "source": [
    "### 2. Подберите аргументы функции eval_model для логистической регрессии таким образом, чтобы log loss был минимальным.\n"
   ]
  },
  {
   "cell_type": "code",
   "execution_count": 4,
   "id": "865ce91e",
   "metadata": {},
   "outputs": [],
   "source": [
    "def sigmoid(x):\n",
    "    return 1 / (1 + np.exp(-x))"
   ]
  },
  {
   "cell_type": "code",
   "execution_count": 5,
   "id": "6fe25d51",
   "metadata": {},
   "outputs": [],
   "source": [
    "def calc_std(x):\n",
    "    return (x - x.mean()) / x.std()"
   ]
  },
  {
   "cell_type": "code",
   "execution_count": 6,
   "id": "a786cc70",
   "metadata": {},
   "outputs": [],
   "source": [
    "def eval_model(X, y, iterations, eta=1e-4):\n",
    "    \n",
    "    np.random.seed(42)\n",
    "    w = np.random.randn(X.shape[0])\n",
    "    n = X.shape[1]\n",
    "    \n",
    "    for i in range(1, iterations + 1):    \n",
    "        \n",
    "        z = np.dot(w, X)\n",
    "        y_pred = sigmoid(z)\n",
    "        err = calc_logloss(y, y_pred)\n",
    "        w -= eta * (1/n * np.dot((y_pred - y), X.T))\n",
    "    \n",
    "    return err, w"
   ]
  },
  {
   "cell_type": "code",
   "execution_count": 7,
   "id": "f4b827a2",
   "metadata": {},
   "outputs": [],
   "source": [
    "X_st = calc_std(X)"
   ]
  },
  {
   "cell_type": "code",
   "execution_count": 8,
   "id": "8b2ce72f",
   "metadata": {},
   "outputs": [],
   "source": [
    "error_logloss = []\n",
    "eta = np.linspace(1e-8, 1e1, num=20)\n",
    "for it in eta:\n",
    "    e = eval_model(X_st, y, iterations=1000, eta=it)[0]\n",
    "    error_logloss.append(e)\n",
    "# print(error_logloss)"
   ]
  },
  {
   "cell_type": "code",
   "execution_count": 9,
   "id": "12e563d2",
   "metadata": {},
   "outputs": [
    {
     "data": {
      "image/png": "[encoded data removed]",
      "text/plain": [
       "<Figure size 432x288 with 1 Axes>"
      ]
     },
     "metadata": {
      "needs_background": "light"
     },
     "output_type": "display_data"
    }
   ],
   "source": [
    "plt.plot(eta, error_logloss)\n",
    "plt.xlabel('Eta')\n",
    "plt.ylabel('Error')\n",
    "plt.grid()\n",
    "plt.show()"
   ]
  },
  {
   "cell_type": "code",
   "execution_count": 10,
   "id": "8c9b7f87",
   "metadata": {},
   "outputs": [],
   "source": [
    "error_logloss = []\n",
    "eta = np.linspace(0.5, 2.162, num=100)\n",
    "for it in eta:\n",
    "    e = eval_model(X_st, y, iterations=1000, eta=it)[0]\n",
    "    error_logloss.append(e)\n",
    "# print(error_logloss)"
   ]
  },
  {
   "cell_type": "code",
   "execution_count": 11,
   "id": "e7209ed0",
   "metadata": {},
   "outputs": [
    {
     "data": {
      "image/png": "[encoded data removed]",
      "text/plain": [
       "<Figure size 432x288 with 1 Axes>"
      ]
     },
     "metadata": {
      "needs_background": "light"
     },
     "output_type": "display_data"
    }
   ],
   "source": [
    "plt.plot(eta, error_logloss)\n",
    "plt.xlabel('Eta')\n",
    "plt.ylabel('Error')\n",
    "plt.grid()\n",
    "plt.show()"
   ]
  },
  {
   "cell_type": "code",
   "execution_count": 12,
   "id": "bd857f26",
   "metadata": {},
   "outputs": [],
   "source": [
    "min_error = eta[error_logloss.index(min(error_logloss))]"
   ]
  },
  {
   "cell_type": "code",
   "execution_count": 13,
   "id": "0ca19021",
   "metadata": {},
   "outputs": [
    {
     "name": "stdout",
     "output_type": "stream",
     "text": [
      "Минимальный logloss - 0.6859739670556694, при значении eta = 2.145212121212121\n"
     ]
    }
   ],
   "source": [
    "print(f'Минимальный logloss - {min(error_logloss)}, при значении eta = {min_error}')"
   ]
  },
  {
   "cell_type": "markdown",
   "id": "4c14c55f",
   "metadata": {},
   "source": [
    "### 3. Создайте функцию calc_pred_proba, возвращающую предсказанную вероятность класса 1 (на вход подаются W, который уже посчитан функцией eval_model и X, на выходе - массив y_pred_proba)."
   ]
  },
  {
   "cell_type": "code",
   "execution_count": 20,
   "id": "40d99b42",
   "metadata": {},
   "outputs": [],
   "source": [
    "def calc_pred_proba(w, x):\n",
    "    return sigmoid(np.dot(w, x))"
   ]
  },
  {
   "cell_type": "code",
   "execution_count": 21,
   "id": "2cdb2f34",
   "metadata": {},
   "outputs": [],
   "source": [
    "min_w = eval_model(X_st, y, iterations=1000, eta=min_error)[1]"
   ]
  },
  {
   "cell_type": "code",
   "execution_count": 22,
   "id": "fde18137",
   "metadata": {},
   "outputs": [
    {
     "data": {
      "text/plain": [
       "array([0.44388748, 0.4676634 , 0.47391313, 0.45575023, 0.55695403,\n",
       "       0.48018804, 0.5625684 , 0.61769234, 0.43797916, 0.50384945])"
      ]
     },
     "execution_count": 22,
     "metadata": {},
     "output_type": "execute_result"
    }
   ],
   "source": [
    "y_pred_proba = calc_pred_proba(min_w, X_st)\n",
    "y_pred_proba"
   ]
  },
  {
   "cell_type": "markdown",
   "id": "94055740",
   "metadata": {},
   "source": [
    "### 4. Создайте функцию calc_pred, возвращающую предсказанный класс (на вход подаются W, который уже посчитан функцией eval_model и X, на выходе - массив y_pred)."
   ]
  },
  {
   "cell_type": "code",
   "execution_count": 23,
   "id": "269a1bf2",
   "metadata": {},
   "outputs": [],
   "source": [
    "def calc_pred(w, x, t_value=0.5):\n",
    "    pred_class = calc_pred_proba(w, x)\n",
    "    for val in range(len(pred_class)):\n",
    "        pred_class[val] = 0 if pred_class[val] < t_value else 1\n",
    "    return pred_class"
   ]
  },
  {
   "cell_type": "markdown",
   "id": "7bbc8e1c",
   "metadata": {},
   "source": [
    "### 5. *Реализуйте функции для подсчета Accuracy, матрицы ошибок, точности и полноты, а также F1 score."
   ]
  },
  {
   "cell_type": "code",
   "execution_count": 24,
   "id": "3cfe701a",
   "metadata": {},
   "outputs": [],
   "source": [
    "def accuracy(y_pred, y):\n",
    "    done = 0\n",
    "    for elem in range(len(y)):\n",
    "        if y_pred[elem] == y[elem]:\n",
    "            done += 1\n",
    "    return done / len(y)"
   ]
  },
  {
   "cell_type": "code",
   "execution_count": 25,
   "id": "5abe1d1f",
   "metadata": {},
   "outputs": [
    {
     "data": {
      "text/plain": [
       "0.7"
      ]
     },
     "execution_count": 25,
     "metadata": {},
     "output_type": "execute_result"
    }
   ],
   "source": [
    "accuracy(calc_pred(min_w, X_st), y)"
   ]
  },
  {
   "cell_type": "code",
   "execution_count": 26,
   "id": "05907fa8",
   "metadata": {},
   "outputs": [],
   "source": [
    "def confusion_matrix(y_pred, y):\n",
    "    tp = 0\n",
    "    tn = 0\n",
    "    fp = 0\n",
    "    fn = 0\n",
    "\n",
    "    for val in range(len(y)):\n",
    "        if y[val] == y_pred[val]:\n",
    "            if y[val]:\n",
    "                tp += 1\n",
    "            else:\n",
    "                tn += 1\n",
    "        else:\n",
    "            if y[val]:\n",
    "                fp += 1\n",
    "            else:\n",
    "                tn += 1\n",
    "    \n",
    "    return tp, fp, fn, tn"
   ]
  },
  {
   "cell_type": "code",
   "execution_count": 27,
   "id": "4d068b2f",
   "metadata": {},
   "outputs": [],
   "source": [
    "tp, fp, fn, tn = confusion_matrix(calc_pred(min_w, X_st), y)"
   ]
  },
  {
   "cell_type": "code",
   "execution_count": 28,
   "id": "a9d1893f",
   "metadata": {},
   "outputs": [],
   "source": [
    "precision = tp / (tp + fp)"
   ]
  },
  {
   "cell_type": "code",
   "execution_count": 29,
   "id": "93602c9d",
   "metadata": {},
   "outputs": [],
   "source": [
    "recall = tp / (tp + fn)"
   ]
  },
  {
   "cell_type": "code",
   "execution_count": 30,
   "id": "a194790a",
   "metadata": {},
   "outputs": [],
   "source": [
    "f1_score = (2 * precision * recall) / (precision + recall)"
   ]
  },
  {
   "cell_type": "code",
   "execution_count": 31,
   "id": "9af0b2d6",
   "metadata": {},
   "outputs": [
    {
     "name": "stdout",
     "output_type": "stream",
     "text": [
      "Precision = 0.6, Recall = 1.0, F1-score = 0.7499999999999999\n"
     ]
    }
   ],
   "source": [
    "print(f'Precision = {precision}, Recall = {recall}, F1-score = {f1_score}')"
   ]
  },
  {
   "cell_type": "markdown",
   "id": "074dae5b",
   "metadata": {},
   "source": [
    "### 6. Могла ли модель переобучиться? Почему?"
   ]
  },
  {
   "cell_type": "markdown",
   "id": "d3e3766b",
   "metadata": {},
   "source": [
    "Recall = 1, поэтому можно говорить о переобучении, но данных мало."
   ]
  },
  {
   "cell_type": "code",
   "execution_count": null,
   "id": "ccf5d812",
   "metadata": {},
   "outputs": [],
   "source": []
  }
 ],
 "metadata": {
  "kernelspec": {
   "display_name": "Python 3",
   "language": "python",
   "name": "python3"
  },
  "language_info": {
   "codemirror_mode": {
    "name": "ipython",
    "version": 3
   },
   "file_extension": ".py",
   "mimetype": "text/x-python",
   "name": "python",
   "nbconvert_exporter": "python",
   "pygments_lexer": "ipython3",
   "version": "3.8.8"
  }
 },
 "nbformat": 4,
 "nbformat_minor": 5
}
